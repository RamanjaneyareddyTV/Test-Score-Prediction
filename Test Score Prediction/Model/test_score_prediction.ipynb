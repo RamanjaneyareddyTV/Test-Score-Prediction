{
 "cells": [
  {
   "cell_type": "code",
   "execution_count": 1,
   "metadata": {
    "id": "xo_0bJp7AsSf"
   },
   "outputs": [],
   "source": [
    "import pandas as pd\n",
    "import numpy as np\n",
    "import seaborn as sns\n",
    "import matplotlib.pyplot as plt"
   ]
  },
  {
   "cell_type": "code",
   "execution_count": 2,
   "metadata": {
    "id": "a6DRbFEkCiyc"
   },
   "outputs": [],
   "source": [
    "data = pd.read_csv('D:/ML/Test Score Prediction/Dataset/test_scores.csv')"
   ]
  },
  {
   "cell_type": "code",
   "execution_count": 3,
   "metadata": {
    "colab": {
     "base_uri": "https://localhost:8080/"
    },
    "id": "DeAzGme8GZrn",
    "outputId": "2a449e88-f96b-4851-9fbe-35b00b203da5"
   },
   "outputs": [
    {
     "name": "stdout",
     "output_type": "stream",
     "text": [
      "<class 'pandas.core.frame.DataFrame'>\n",
      "RangeIndex: 2133 entries, 0 to 2132\n",
      "Data columns (total 11 columns):\n",
      " #   Column           Non-Null Count  Dtype  \n",
      "---  ------           --------------  -----  \n",
      " 0   school           2133 non-null   object \n",
      " 1   school_setting   2133 non-null   object \n",
      " 2   school_type      2133 non-null   object \n",
      " 3   classroom        2133 non-null   object \n",
      " 4   teaching_method  2133 non-null   object \n",
      " 5   n_student        2133 non-null   float64\n",
      " 6   student_id       2133 non-null   object \n",
      " 7   gender           2133 non-null   object \n",
      " 8   lunch            2133 non-null   object \n",
      " 9   pretest          2133 non-null   float64\n",
      " 10  posttest         2133 non-null   float64\n",
      "dtypes: float64(3), object(8)\n",
      "memory usage: 183.4+ KB\n"
     ]
    }
   ],
   "source": [
    "data.info()"
   ]
  },
  {
   "cell_type": "code",
   "execution_count": 4,
   "metadata": {
    "colab": {
     "base_uri": "https://localhost:8080/"
    },
    "id": "O9ZPg_pGekx6",
    "outputId": "b65d9b35-a017-43ea-a177-a139de2dd444"
   },
   "outputs": [
    {
     "data": {
      "text/plain": [
       "school               23\n",
       "school_setting        3\n",
       "school_type           2\n",
       "classroom            97\n",
       "teaching_method       2\n",
       "n_student            18\n",
       "student_id         2133\n",
       "gender                2\n",
       "lunch                 2\n",
       "pretest              69\n",
       "posttest             68\n",
       "dtype: int64"
      ]
     },
     "execution_count": 4,
     "metadata": {},
     "output_type": "execute_result"
    }
   ],
   "source": [
    "data.nunique()"
   ]
  },
  {
   "cell_type": "code",
   "execution_count": 5,
   "metadata": {
    "colab": {
     "base_uri": "https://localhost:8080/",
     "height": 202
    },
    "id": "nmMt1efaCtND",
    "outputId": "3b50c567-913d-4041-daf6-801fb4cc9c33"
   },
   "outputs": [
    {
     "data": {
      "text/html": [
       "<div>\n",
       "<style scoped>\n",
       "    .dataframe tbody tr th:only-of-type {\n",
       "        vertical-align: middle;\n",
       "    }\n",
       "\n",
       "    .dataframe tbody tr th {\n",
       "        vertical-align: top;\n",
       "    }\n",
       "\n",
       "    .dataframe thead th {\n",
       "        text-align: right;\n",
       "    }\n",
       "</style>\n",
       "<table border=\"1\" class=\"dataframe\">\n",
       "  <thead>\n",
       "    <tr style=\"text-align: right;\">\n",
       "      <th></th>\n",
       "      <th>school</th>\n",
       "      <th>school_setting</th>\n",
       "      <th>school_type</th>\n",
       "      <th>classroom</th>\n",
       "      <th>teaching_method</th>\n",
       "      <th>n_student</th>\n",
       "      <th>student_id</th>\n",
       "      <th>gender</th>\n",
       "      <th>lunch</th>\n",
       "      <th>pretest</th>\n",
       "      <th>posttest</th>\n",
       "    </tr>\n",
       "  </thead>\n",
       "  <tbody>\n",
       "    <tr>\n",
       "      <th>0</th>\n",
       "      <td>ANKYI</td>\n",
       "      <td>Urban</td>\n",
       "      <td>Non-public</td>\n",
       "      <td>6OL</td>\n",
       "      <td>Standard</td>\n",
       "      <td>20.0</td>\n",
       "      <td>2FHT3</td>\n",
       "      <td>Female</td>\n",
       "      <td>Does not qualify</td>\n",
       "      <td>62.0</td>\n",
       "      <td>72.0</td>\n",
       "    </tr>\n",
       "    <tr>\n",
       "      <th>1</th>\n",
       "      <td>ANKYI</td>\n",
       "      <td>Urban</td>\n",
       "      <td>Non-public</td>\n",
       "      <td>6OL</td>\n",
       "      <td>Standard</td>\n",
       "      <td>20.0</td>\n",
       "      <td>3JIVH</td>\n",
       "      <td>Female</td>\n",
       "      <td>Does not qualify</td>\n",
       "      <td>66.0</td>\n",
       "      <td>79.0</td>\n",
       "    </tr>\n",
       "    <tr>\n",
       "      <th>2</th>\n",
       "      <td>ANKYI</td>\n",
       "      <td>Urban</td>\n",
       "      <td>Non-public</td>\n",
       "      <td>6OL</td>\n",
       "      <td>Standard</td>\n",
       "      <td>20.0</td>\n",
       "      <td>3XOWE</td>\n",
       "      <td>Male</td>\n",
       "      <td>Does not qualify</td>\n",
       "      <td>64.0</td>\n",
       "      <td>76.0</td>\n",
       "    </tr>\n",
       "    <tr>\n",
       "      <th>3</th>\n",
       "      <td>ANKYI</td>\n",
       "      <td>Urban</td>\n",
       "      <td>Non-public</td>\n",
       "      <td>6OL</td>\n",
       "      <td>Standard</td>\n",
       "      <td>20.0</td>\n",
       "      <td>556O0</td>\n",
       "      <td>Female</td>\n",
       "      <td>Does not qualify</td>\n",
       "      <td>61.0</td>\n",
       "      <td>77.0</td>\n",
       "    </tr>\n",
       "    <tr>\n",
       "      <th>4</th>\n",
       "      <td>ANKYI</td>\n",
       "      <td>Urban</td>\n",
       "      <td>Non-public</td>\n",
       "      <td>6OL</td>\n",
       "      <td>Standard</td>\n",
       "      <td>20.0</td>\n",
       "      <td>74LOE</td>\n",
       "      <td>Male</td>\n",
       "      <td>Does not qualify</td>\n",
       "      <td>64.0</td>\n",
       "      <td>76.0</td>\n",
       "    </tr>\n",
       "  </tbody>\n",
       "</table>\n",
       "</div>"
      ],
      "text/plain": [
       "  school school_setting school_type classroom teaching_method  n_student  \\\n",
       "0  ANKYI          Urban  Non-public       6OL        Standard       20.0   \n",
       "1  ANKYI          Urban  Non-public       6OL        Standard       20.0   \n",
       "2  ANKYI          Urban  Non-public       6OL        Standard       20.0   \n",
       "3  ANKYI          Urban  Non-public       6OL        Standard       20.0   \n",
       "4  ANKYI          Urban  Non-public       6OL        Standard       20.0   \n",
       "\n",
       "  student_id  gender             lunch  pretest  posttest  \n",
       "0      2FHT3  Female  Does not qualify     62.0      72.0  \n",
       "1      3JIVH  Female  Does not qualify     66.0      79.0  \n",
       "2      3XOWE    Male  Does not qualify     64.0      76.0  \n",
       "3      556O0  Female  Does not qualify     61.0      77.0  \n",
       "4      74LOE    Male  Does not qualify     64.0      76.0  "
      ]
     },
     "execution_count": 5,
     "metadata": {},
     "output_type": "execute_result"
    }
   ],
   "source": [
    "data.head()"
   ]
  },
  {
   "cell_type": "code",
   "execution_count": 6,
   "metadata": {
    "colab": {
     "base_uri": "https://localhost:8080/",
     "height": 402
    },
    "id": "86FfXyS8C1KV",
    "outputId": "bcd6aed7-2a2b-411e-ee9b-1ed72a29a9aa"
   },
   "outputs": [
    {
     "data": {
      "text/html": [
       "<div>\n",
       "<style scoped>\n",
       "    .dataframe tbody tr th:only-of-type {\n",
       "        vertical-align: middle;\n",
       "    }\n",
       "\n",
       "    .dataframe tbody tr th {\n",
       "        vertical-align: top;\n",
       "    }\n",
       "\n",
       "    .dataframe thead th {\n",
       "        text-align: right;\n",
       "    }\n",
       "</style>\n",
       "<table border=\"1\" class=\"dataframe\">\n",
       "  <thead>\n",
       "    <tr style=\"text-align: right;\">\n",
       "      <th></th>\n",
       "      <th>school</th>\n",
       "      <th>school_setting</th>\n",
       "      <th>school_type</th>\n",
       "      <th>classroom</th>\n",
       "      <th>teaching_method</th>\n",
       "      <th>n_student</th>\n",
       "      <th>student_id</th>\n",
       "      <th>gender</th>\n",
       "      <th>lunch</th>\n",
       "      <th>pretest</th>\n",
       "      <th>posttest</th>\n",
       "    </tr>\n",
       "  </thead>\n",
       "  <tbody>\n",
       "    <tr>\n",
       "      <th>count</th>\n",
       "      <td>2133</td>\n",
       "      <td>2133</td>\n",
       "      <td>2133</td>\n",
       "      <td>2133</td>\n",
       "      <td>2133</td>\n",
       "      <td>2133.000000</td>\n",
       "      <td>2133</td>\n",
       "      <td>2133</td>\n",
       "      <td>2133</td>\n",
       "      <td>2133.000000</td>\n",
       "      <td>2133.000000</td>\n",
       "    </tr>\n",
       "    <tr>\n",
       "      <th>unique</th>\n",
       "      <td>23</td>\n",
       "      <td>3</td>\n",
       "      <td>2</td>\n",
       "      <td>97</td>\n",
       "      <td>2</td>\n",
       "      <td>NaN</td>\n",
       "      <td>2133</td>\n",
       "      <td>2</td>\n",
       "      <td>2</td>\n",
       "      <td>NaN</td>\n",
       "      <td>NaN</td>\n",
       "    </tr>\n",
       "    <tr>\n",
       "      <th>top</th>\n",
       "      <td>GOOBU</td>\n",
       "      <td>Urban</td>\n",
       "      <td>Public</td>\n",
       "      <td>18K</td>\n",
       "      <td>Standard</td>\n",
       "      <td>NaN</td>\n",
       "      <td>2FHT3</td>\n",
       "      <td>Male</td>\n",
       "      <td>Does not qualify</td>\n",
       "      <td>NaN</td>\n",
       "      <td>NaN</td>\n",
       "    </tr>\n",
       "    <tr>\n",
       "      <th>freq</th>\n",
       "      <td>158</td>\n",
       "      <td>906</td>\n",
       "      <td>1582</td>\n",
       "      <td>31</td>\n",
       "      <td>1373</td>\n",
       "      <td>NaN</td>\n",
       "      <td>1</td>\n",
       "      <td>1077</td>\n",
       "      <td>1215</td>\n",
       "      <td>NaN</td>\n",
       "      <td>NaN</td>\n",
       "    </tr>\n",
       "    <tr>\n",
       "      <th>mean</th>\n",
       "      <td>NaN</td>\n",
       "      <td>NaN</td>\n",
       "      <td>NaN</td>\n",
       "      <td>NaN</td>\n",
       "      <td>NaN</td>\n",
       "      <td>22.796531</td>\n",
       "      <td>NaN</td>\n",
       "      <td>NaN</td>\n",
       "      <td>NaN</td>\n",
       "      <td>54.955931</td>\n",
       "      <td>67.102203</td>\n",
       "    </tr>\n",
       "    <tr>\n",
       "      <th>std</th>\n",
       "      <td>NaN</td>\n",
       "      <td>NaN</td>\n",
       "      <td>NaN</td>\n",
       "      <td>NaN</td>\n",
       "      <td>NaN</td>\n",
       "      <td>4.228893</td>\n",
       "      <td>NaN</td>\n",
       "      <td>NaN</td>\n",
       "      <td>NaN</td>\n",
       "      <td>13.563101</td>\n",
       "      <td>13.986789</td>\n",
       "    </tr>\n",
       "    <tr>\n",
       "      <th>min</th>\n",
       "      <td>NaN</td>\n",
       "      <td>NaN</td>\n",
       "      <td>NaN</td>\n",
       "      <td>NaN</td>\n",
       "      <td>NaN</td>\n",
       "      <td>14.000000</td>\n",
       "      <td>NaN</td>\n",
       "      <td>NaN</td>\n",
       "      <td>NaN</td>\n",
       "      <td>22.000000</td>\n",
       "      <td>32.000000</td>\n",
       "    </tr>\n",
       "    <tr>\n",
       "      <th>25%</th>\n",
       "      <td>NaN</td>\n",
       "      <td>NaN</td>\n",
       "      <td>NaN</td>\n",
       "      <td>NaN</td>\n",
       "      <td>NaN</td>\n",
       "      <td>20.000000</td>\n",
       "      <td>NaN</td>\n",
       "      <td>NaN</td>\n",
       "      <td>NaN</td>\n",
       "      <td>44.000000</td>\n",
       "      <td>56.000000</td>\n",
       "    </tr>\n",
       "    <tr>\n",
       "      <th>50%</th>\n",
       "      <td>NaN</td>\n",
       "      <td>NaN</td>\n",
       "      <td>NaN</td>\n",
       "      <td>NaN</td>\n",
       "      <td>NaN</td>\n",
       "      <td>22.000000</td>\n",
       "      <td>NaN</td>\n",
       "      <td>NaN</td>\n",
       "      <td>NaN</td>\n",
       "      <td>56.000000</td>\n",
       "      <td>68.000000</td>\n",
       "    </tr>\n",
       "    <tr>\n",
       "      <th>75%</th>\n",
       "      <td>NaN</td>\n",
       "      <td>NaN</td>\n",
       "      <td>NaN</td>\n",
       "      <td>NaN</td>\n",
       "      <td>NaN</td>\n",
       "      <td>27.000000</td>\n",
       "      <td>NaN</td>\n",
       "      <td>NaN</td>\n",
       "      <td>NaN</td>\n",
       "      <td>65.000000</td>\n",
       "      <td>77.000000</td>\n",
       "    </tr>\n",
       "    <tr>\n",
       "      <th>max</th>\n",
       "      <td>NaN</td>\n",
       "      <td>NaN</td>\n",
       "      <td>NaN</td>\n",
       "      <td>NaN</td>\n",
       "      <td>NaN</td>\n",
       "      <td>31.000000</td>\n",
       "      <td>NaN</td>\n",
       "      <td>NaN</td>\n",
       "      <td>NaN</td>\n",
       "      <td>93.000000</td>\n",
       "      <td>100.000000</td>\n",
       "    </tr>\n",
       "  </tbody>\n",
       "</table>\n",
       "</div>"
      ],
      "text/plain": [
       "       school school_setting school_type classroom teaching_method  \\\n",
       "count    2133           2133        2133      2133            2133   \n",
       "unique     23              3           2        97               2   \n",
       "top     GOOBU          Urban      Public       18K        Standard   \n",
       "freq      158            906        1582        31            1373   \n",
       "mean      NaN            NaN         NaN       NaN             NaN   \n",
       "std       NaN            NaN         NaN       NaN             NaN   \n",
       "min       NaN            NaN         NaN       NaN             NaN   \n",
       "25%       NaN            NaN         NaN       NaN             NaN   \n",
       "50%       NaN            NaN         NaN       NaN             NaN   \n",
       "75%       NaN            NaN         NaN       NaN             NaN   \n",
       "max       NaN            NaN         NaN       NaN             NaN   \n",
       "\n",
       "          n_student student_id gender             lunch      pretest  \\\n",
       "count   2133.000000       2133   2133              2133  2133.000000   \n",
       "unique          NaN       2133      2                 2          NaN   \n",
       "top             NaN      2FHT3   Male  Does not qualify          NaN   \n",
       "freq            NaN          1   1077              1215          NaN   \n",
       "mean      22.796531        NaN    NaN               NaN    54.955931   \n",
       "std        4.228893        NaN    NaN               NaN    13.563101   \n",
       "min       14.000000        NaN    NaN               NaN    22.000000   \n",
       "25%       20.000000        NaN    NaN               NaN    44.000000   \n",
       "50%       22.000000        NaN    NaN               NaN    56.000000   \n",
       "75%       27.000000        NaN    NaN               NaN    65.000000   \n",
       "max       31.000000        NaN    NaN               NaN    93.000000   \n",
       "\n",
       "           posttest  \n",
       "count   2133.000000  \n",
       "unique          NaN  \n",
       "top             NaN  \n",
       "freq            NaN  \n",
       "mean      67.102203  \n",
       "std       13.986789  \n",
       "min       32.000000  \n",
       "25%       56.000000  \n",
       "50%       68.000000  \n",
       "75%       77.000000  \n",
       "max      100.000000  "
      ]
     },
     "execution_count": 6,
     "metadata": {},
     "output_type": "execute_result"
    }
   ],
   "source": [
    "data.describe(include='all')"
   ]
  },
  {
   "cell_type": "code",
   "execution_count": 7,
   "metadata": {
    "colab": {
     "base_uri": "https://localhost:8080/"
    },
    "id": "iksFCwCuC8GL",
    "outputId": "6a372035-cc75-470c-92a8-26cd18bb491e"
   },
   "outputs": [
    {
     "data": {
      "text/plain": [
       "school             0\n",
       "school_setting     0\n",
       "school_type        0\n",
       "classroom          0\n",
       "teaching_method    0\n",
       "n_student          0\n",
       "student_id         0\n",
       "gender             0\n",
       "lunch              0\n",
       "pretest            0\n",
       "posttest           0\n",
       "dtype: int64"
      ]
     },
     "execution_count": 7,
     "metadata": {},
     "output_type": "execute_result"
    }
   ],
   "source": [
    "data.isna().sum()"
   ]
  },
  {
   "cell_type": "code",
   "execution_count": 8,
   "metadata": {
    "colab": {
     "base_uri": "https://localhost:8080/",
     "height": 363
    },
    "id": "-GNrgLrFDUYE",
    "outputId": "a40624f3-fdf6-4020-98b4-d699f06605e2"
   },
   "outputs": [
    {
     "data": {
      "text/plain": [
       "<AxesSubplot:>"
      ]
     },
     "execution_count": 8,
     "metadata": {},
     "output_type": "execute_result"
    },
    {
     "data": {
      "image/png": "[encoded data removed]",
      "text/plain": [
       "<Figure size 432x288 with 2 Axes>"
      ]
     },
     "metadata": {
      "needs_background": "light"
     },
     "output_type": "display_data"
    }
   ],
   "source": [
    "#checking missing values\n",
    "sns.heatmap(data=data.isnull())"
   ]
  },
  {
   "cell_type": "code",
   "execution_count": 9,
   "metadata": {
    "colab": {
     "base_uri": "https://localhost:8080/",
     "height": 604
    },
    "id": "wTUrshbJFeXA",
    "outputId": "7671d43a-a68d-4d54-8485-40dbdf13bb93"
   },
   "outputs": [
    {
     "data": {
      "image/png": "[encoded data removed]",
      "text/plain": [
       "<Figure size 1080x720 with 5 Axes>"
      ]
     },
     "metadata": {
      "needs_background": "light"
     },
     "output_type": "display_data"
    }
   ],
   "source": [
    "slist = ['school_setting', 'school_type', 'teaching_method', 'gender', 'lunch']\n",
    "fig, ax = plt.subplots(2,3,figsize=(15,10))\n",
    "\n",
    "def graph(x, i):\n",
    "    sns.barplot(x=data[x].unique(), y=data.groupby(x)['posttest'].mean().values, ax=i, palette='nipy_spectral')\n",
    "    i.set_title(x+' (Average Posttest Score)', fontsize=11, fontdict={\"fontweight\": \"bold\"})\n",
    "    \n",
    "    for p in i.patches:\n",
    "        text = str(int(p.get_height()))\n",
    "        i.annotate(text, (p.get_x()+p.get_width()/2, p.get_height()+1),\n",
    "                   ha=\"center\", va='center', fontsize=10, fontweight=\"bold\")\n",
    "\n",
    "graph('school_setting', ax[0,0])\n",
    "graph('school_type', ax[0,1])\n",
    "graph('teaching_method', ax[0,2])\n",
    "graph('gender', ax[1,0])\n",
    "graph('lunch', ax[1,1])\n",
    "fig.delaxes(ax= ax[1,2]) "
   ]
  },
  {
   "cell_type": "markdown",
   "metadata": {
    "id": "48k2ab15eLXZ"
   },
   "source": [
    "number of students in the class is inversely proportional to the average posttest score"
   ]
  },
  {
   "cell_type": "code",
   "execution_count": 10,
   "metadata": {
    "colab": {
     "base_uri": "https://localhost:8080/",
     "height": 297
    },
    "id": "bqL-WtUFGgfm",
    "outputId": "563e64df-8fd7-4430-fbca-b8e0ac65c872"
   },
   "outputs": [
    {
     "data": {
      "text/plain": [
       "<AxesSubplot:xlabel='n_student', ylabel='posttest'>"
      ]
     },
     "execution_count": 10,
     "metadata": {},
     "output_type": "execute_result"
    },
    {
     "data": {
      "image/png": "[encoded data removed]",
      "text/plain": [
       "<Figure size 432x288 with 1 Axes>"
      ]
     },
     "metadata": {
      "needs_background": "light"
     },
     "output_type": "display_data"
    }
   ],
   "source": [
    "sns.lineplot(x=data.groupby('n_student')['posttest'].mean().index, \n",
    "             y=data.groupby('n_student')['posttest'].mean())"
   ]
  },
  {
   "cell_type": "markdown",
   "metadata": {
    "id": "coVymxxHlCru"
   },
   "source": [
    "Feature to Feature Correlations - Higher value indicates simillarity of both two features. Therefore, the less value the better.\n",
    "\n",
    "Feature to Outcome Correlations - Higher value indicates the importance of feature"
   ]
  },
  {
   "cell_type": "code",
   "execution_count": 11,
   "metadata": {
    "id": "UI-EKvnxeR1H"
   },
   "outputs": [],
   "source": [
    "from sklearn.preprocessing import OneHotEncoder\n",
    "from sklearn import preprocessing\n",
    "from sklearn.model_selection import train_test_split\n",
    "from sklearn.preprocessing import StandardScaler"
   ]
  },
  {
   "cell_type": "code",
   "execution_count": 12,
   "metadata": {
    "id": "IF2AfdyHe2HJ"
   },
   "outputs": [],
   "source": [
    "X = data.drop(['student_id', 'gender', 'posttest'], axis=1)"
   ]
  },
  {
   "cell_type": "code",
   "execution_count": 13,
   "metadata": {
    "colab": {
     "base_uri": "https://localhost:8080/"
    },
    "id": "iNf4MzsNfEQS",
    "outputId": "64e082a7-5cc6-4b0a-b76c-cc95878f1a4a"
   },
   "outputs": [
    {
     "data": {
      "text/plain": [
       "(  school school_setting school_type classroom teaching_method  n_student  \\\n",
       " 0  ANKYI          Urban  Non-public       6OL        Standard       20.0   \n",
       " 1  ANKYI          Urban  Non-public       6OL        Standard       20.0   \n",
       " 2  ANKYI          Urban  Non-public       6OL        Standard       20.0   \n",
       " 3  ANKYI          Urban  Non-public       6OL        Standard       20.0   \n",
       " 4  ANKYI          Urban  Non-public       6OL        Standard       20.0   \n",
       " \n",
       "               lunch  pretest  \n",
       " 0  Does not qualify     62.0  \n",
       " 1  Does not qualify     66.0  \n",
       " 2  Does not qualify     64.0  \n",
       " 3  Does not qualify     61.0  \n",
       " 4  Does not qualify     64.0  ,\n",
       " 0    72.0\n",
       " 1    79.0\n",
       " 2    76.0\n",
       " 3    77.0\n",
       " 4    76.0\n",
       " Name: posttest, dtype: float64)"
      ]
     },
     "execution_count": 13,
     "metadata": {},
     "output_type": "execute_result"
    }
   ],
   "source": [
    "y = data['posttest']\n",
    "X.head(),y.head()"
   ]
  },
  {
   "cell_type": "code",
   "execution_count": 14,
   "metadata": {},
   "outputs": [
    {
     "name": "stderr",
     "output_type": "stream",
     "text": [
      "C:\\Users\\Raman\\AppData\\Local\\Temp/ipykernel_7932/1284936477.py:3: DeprecationWarning: `np.bool` is a deprecated alias for the builtin `bool`. To silence this warning, use `bool` by itself. Doing this will not modify any behavior and is safe. If you specifically wanted the numpy scalar type, use `np.bool_` here.\n",
      "Deprecated in NumPy 1.20; for more details and guidance: https://numpy.org/devdocs/release/1.20.0-notes.html#deprecations\n",
      "  mask = np.triu(np.ones_like(h_data.corr(), dtype=np.bool))\n"
     ]
    },
    {
     "data": {
      "text/plain": [
       "<AxesSubplot:>"
      ]
     },
     "execution_count": 14,
     "metadata": {},
     "output_type": "execute_result"
    },
    {
     "data": {
      "image/png": "[encoded data removed]",
      "text/plain": [
       "<Figure size 1080x576 with 2 Axes>"
      ]
     },
     "metadata": {
      "needs_background": "light"
     },
     "output_type": "display_data"
    }
   ],
   "source": [
    "h_data = X.join(data['posttest'].to_frame())\n",
    "plt.figure(figsize=(15,8))\n",
    "mask = np.triu(np.ones_like(h_data.corr(), dtype=np.bool))\n",
    "sns.heatmap(data=h_data.corr(),annot=True,cmap='BrBG',mask=mask)"
   ]
  },
  {
   "cell_type": "code",
   "execution_count": 15,
   "metadata": {
    "colab": {
     "base_uri": "https://localhost:8080/",
     "height": 202
    },
    "id": "CIveAPQyfNlK",
    "outputId": "4fa1a67a-8745-4ad3-8dda-6ddf5ee2706a"
   },
   "outputs": [
    {
     "data": {
      "text/html": [
       "<div>\n",
       "<style scoped>\n",
       "    .dataframe tbody tr th:only-of-type {\n",
       "        vertical-align: middle;\n",
       "    }\n",
       "\n",
       "    .dataframe tbody tr th {\n",
       "        vertical-align: top;\n",
       "    }\n",
       "\n",
       "    .dataframe thead th {\n",
       "        text-align: right;\n",
       "    }\n",
       "</style>\n",
       "<table border=\"1\" class=\"dataframe\">\n",
       "  <thead>\n",
       "    <tr style=\"text-align: right;\">\n",
       "      <th></th>\n",
       "      <th>school</th>\n",
       "      <th>school_setting</th>\n",
       "      <th>school_type</th>\n",
       "      <th>classroom</th>\n",
       "      <th>teaching_method</th>\n",
       "      <th>n_student</th>\n",
       "      <th>lunch</th>\n",
       "      <th>pretest</th>\n",
       "    </tr>\n",
       "  </thead>\n",
       "  <tbody>\n",
       "    <tr>\n",
       "      <th>0</th>\n",
       "      <td>ANKYI</td>\n",
       "      <td>0</td>\n",
       "      <td>0</td>\n",
       "      <td>6OL</td>\n",
       "      <td>1</td>\n",
       "      <td>20.0</td>\n",
       "      <td>0</td>\n",
       "      <td>62.0</td>\n",
       "    </tr>\n",
       "    <tr>\n",
       "      <th>1</th>\n",
       "      <td>ANKYI</td>\n",
       "      <td>0</td>\n",
       "      <td>0</td>\n",
       "      <td>6OL</td>\n",
       "      <td>1</td>\n",
       "      <td>20.0</td>\n",
       "      <td>0</td>\n",
       "      <td>66.0</td>\n",
       "    </tr>\n",
       "    <tr>\n",
       "      <th>2</th>\n",
       "      <td>ANKYI</td>\n",
       "      <td>0</td>\n",
       "      <td>0</td>\n",
       "      <td>6OL</td>\n",
       "      <td>1</td>\n",
       "      <td>20.0</td>\n",
       "      <td>0</td>\n",
       "      <td>64.0</td>\n",
       "    </tr>\n",
       "    <tr>\n",
       "      <th>3</th>\n",
       "      <td>ANKYI</td>\n",
       "      <td>0</td>\n",
       "      <td>0</td>\n",
       "      <td>6OL</td>\n",
       "      <td>1</td>\n",
       "      <td>20.0</td>\n",
       "      <td>0</td>\n",
       "      <td>61.0</td>\n",
       "    </tr>\n",
       "    <tr>\n",
       "      <th>4</th>\n",
       "      <td>ANKYI</td>\n",
       "      <td>0</td>\n",
       "      <td>0</td>\n",
       "      <td>6OL</td>\n",
       "      <td>1</td>\n",
       "      <td>20.0</td>\n",
       "      <td>0</td>\n",
       "      <td>64.0</td>\n",
       "    </tr>\n",
       "  </tbody>\n",
       "</table>\n",
       "</div>"
      ],
      "text/plain": [
       "  school  school_setting  school_type classroom  teaching_method  n_student  \\\n",
       "0  ANKYI               0            0       6OL                1       20.0   \n",
       "1  ANKYI               0            0       6OL                1       20.0   \n",
       "2  ANKYI               0            0       6OL                1       20.0   \n",
       "3  ANKYI               0            0       6OL                1       20.0   \n",
       "4  ANKYI               0            0       6OL                1       20.0   \n",
       "\n",
       "   lunch  pretest  \n",
       "0      0     62.0  \n",
       "1      0     66.0  \n",
       "2      0     64.0  \n",
       "3      0     61.0  \n",
       "4      0     64.0  "
      ]
     },
     "execution_count": 15,
     "metadata": {},
     "output_type": "execute_result"
    }
   ],
   "source": [
    "b_list = ['school_setting', 'school_type', 'teaching_method', 'lunch']\n",
    "b_encoder = preprocessing.LabelBinarizer()\n",
    "for x in b_list:\n",
    "    a = b_encoder.fit_transform(X[x])\n",
    "    X[x] = a\n",
    "X.head()"
   ]
  },
  {
   "cell_type": "code",
   "execution_count": 16,
   "metadata": {
    "colab": {
     "base_uri": "https://localhost:8080/",
     "height": 202
    },
    "id": "3QD0uf3jf3-D",
    "outputId": "09437d9b-ea97-4e3f-eaea-e6b9a20c1269"
   },
   "outputs": [
    {
     "data": {
      "text/html": [
       "<div>\n",
       "<style scoped>\n",
       "    .dataframe tbody tr th:only-of-type {\n",
       "        vertical-align: middle;\n",
       "    }\n",
       "\n",
       "    .dataframe tbody tr th {\n",
       "        vertical-align: top;\n",
       "    }\n",
       "\n",
       "    .dataframe thead th {\n",
       "        text-align: right;\n",
       "    }\n",
       "</style>\n",
       "<table border=\"1\" class=\"dataframe\">\n",
       "  <thead>\n",
       "    <tr style=\"text-align: right;\">\n",
       "      <th></th>\n",
       "      <th>school</th>\n",
       "      <th>school_setting</th>\n",
       "      <th>school_type</th>\n",
       "      <th>classroom</th>\n",
       "      <th>teaching_method</th>\n",
       "      <th>n_student</th>\n",
       "      <th>lunch</th>\n",
       "      <th>pretest</th>\n",
       "    </tr>\n",
       "  </thead>\n",
       "  <tbody>\n",
       "    <tr>\n",
       "      <th>0</th>\n",
       "      <td>ANKYI</td>\n",
       "      <td>0</td>\n",
       "      <td>0</td>\n",
       "      <td>6OL</td>\n",
       "      <td>1</td>\n",
       "      <td>-0.661447</td>\n",
       "      <td>0</td>\n",
       "      <td>0.519477</td>\n",
       "    </tr>\n",
       "    <tr>\n",
       "      <th>1</th>\n",
       "      <td>ANKYI</td>\n",
       "      <td>0</td>\n",
       "      <td>0</td>\n",
       "      <td>6OL</td>\n",
       "      <td>1</td>\n",
       "      <td>-0.661447</td>\n",
       "      <td>0</td>\n",
       "      <td>0.814464</td>\n",
       "    </tr>\n",
       "    <tr>\n",
       "      <th>2</th>\n",
       "      <td>ANKYI</td>\n",
       "      <td>0</td>\n",
       "      <td>0</td>\n",
       "      <td>6OL</td>\n",
       "      <td>1</td>\n",
       "      <td>-0.661447</td>\n",
       "      <td>0</td>\n",
       "      <td>0.666971</td>\n",
       "    </tr>\n",
       "    <tr>\n",
       "      <th>3</th>\n",
       "      <td>ANKYI</td>\n",
       "      <td>0</td>\n",
       "      <td>0</td>\n",
       "      <td>6OL</td>\n",
       "      <td>1</td>\n",
       "      <td>-0.661447</td>\n",
       "      <td>0</td>\n",
       "      <td>0.445730</td>\n",
       "    </tr>\n",
       "    <tr>\n",
       "      <th>4</th>\n",
       "      <td>ANKYI</td>\n",
       "      <td>0</td>\n",
       "      <td>0</td>\n",
       "      <td>6OL</td>\n",
       "      <td>1</td>\n",
       "      <td>-0.661447</td>\n",
       "      <td>0</td>\n",
       "      <td>0.666971</td>\n",
       "    </tr>\n",
       "  </tbody>\n",
       "</table>\n",
       "</div>"
      ],
      "text/plain": [
       "  school  school_setting  school_type classroom  teaching_method  n_student  \\\n",
       "0  ANKYI               0            0       6OL                1  -0.661447   \n",
       "1  ANKYI               0            0       6OL                1  -0.661447   \n",
       "2  ANKYI               0            0       6OL                1  -0.661447   \n",
       "3  ANKYI               0            0       6OL                1  -0.661447   \n",
       "4  ANKYI               0            0       6OL                1  -0.661447   \n",
       "\n",
       "   lunch   pretest  \n",
       "0      0  0.519477  \n",
       "1      0  0.814464  \n",
       "2      0  0.666971  \n",
       "3      0  0.445730  \n",
       "4      0  0.666971  "
      ]
     },
     "execution_count": 16,
     "metadata": {},
     "output_type": "execute_result"
    }
   ],
   "source": [
    "scale_col = ['n_student', 'pretest']\n",
    "for l in scale_col:\n",
    "    sc = StandardScaler()\n",
    "    scaled_X = sc.fit_transform((X[l].values).reshape(-1,1))\n",
    "    X[l] = scaled_X\n",
    "X.head()"
   ]
  },
  {
   "cell_type": "code",
   "execution_count": 17,
   "metadata": {
    "colab": {
     "base_uri": "https://localhost:8080/",
     "height": 202
    },
    "id": "qVHIqVeCgMrC",
    "outputId": "f8fce496-9e0c-4e6c-bea8-d6e9339c6255"
   },
   "outputs": [
    {
     "data": {
      "text/html": [
       "<div>\n",
       "<style scoped>\n",
       "    .dataframe tbody tr th:only-of-type {\n",
       "        vertical-align: middle;\n",
       "    }\n",
       "\n",
       "    .dataframe tbody tr th {\n",
       "        vertical-align: top;\n",
       "    }\n",
       "\n",
       "    .dataframe thead th {\n",
       "        text-align: right;\n",
       "    }\n",
       "</style>\n",
       "<table border=\"1\" class=\"dataframe\">\n",
       "  <thead>\n",
       "    <tr style=\"text-align: right;\">\n",
       "      <th></th>\n",
       "      <th>school</th>\n",
       "      <th>school_setting</th>\n",
       "      <th>school_type</th>\n",
       "      <th>classroom</th>\n",
       "      <th>teaching_method</th>\n",
       "      <th>n_student</th>\n",
       "      <th>lunch</th>\n",
       "      <th>pretest</th>\n",
       "    </tr>\n",
       "  </thead>\n",
       "  <tbody>\n",
       "    <tr>\n",
       "      <th>0</th>\n",
       "      <td>0.019222</td>\n",
       "      <td>0</td>\n",
       "      <td>0</td>\n",
       "      <td>0.009376</td>\n",
       "      <td>1</td>\n",
       "      <td>-0.661447</td>\n",
       "      <td>0</td>\n",
       "      <td>0.519477</td>\n",
       "    </tr>\n",
       "    <tr>\n",
       "      <th>1</th>\n",
       "      <td>0.019222</td>\n",
       "      <td>0</td>\n",
       "      <td>0</td>\n",
       "      <td>0.009376</td>\n",
       "      <td>1</td>\n",
       "      <td>-0.661447</td>\n",
       "      <td>0</td>\n",
       "      <td>0.814464</td>\n",
       "    </tr>\n",
       "    <tr>\n",
       "      <th>2</th>\n",
       "      <td>0.019222</td>\n",
       "      <td>0</td>\n",
       "      <td>0</td>\n",
       "      <td>0.009376</td>\n",
       "      <td>1</td>\n",
       "      <td>-0.661447</td>\n",
       "      <td>0</td>\n",
       "      <td>0.666971</td>\n",
       "    </tr>\n",
       "    <tr>\n",
       "      <th>3</th>\n",
       "      <td>0.019222</td>\n",
       "      <td>0</td>\n",
       "      <td>0</td>\n",
       "      <td>0.009376</td>\n",
       "      <td>1</td>\n",
       "      <td>-0.661447</td>\n",
       "      <td>0</td>\n",
       "      <td>0.445730</td>\n",
       "    </tr>\n",
       "    <tr>\n",
       "      <th>4</th>\n",
       "      <td>0.019222</td>\n",
       "      <td>0</td>\n",
       "      <td>0</td>\n",
       "      <td>0.009376</td>\n",
       "      <td>1</td>\n",
       "      <td>-0.661447</td>\n",
       "      <td>0</td>\n",
       "      <td>0.666971</td>\n",
       "    </tr>\n",
       "  </tbody>\n",
       "</table>\n",
       "</div>"
      ],
      "text/plain": [
       "     school  school_setting  school_type  classroom  teaching_method  \\\n",
       "0  0.019222               0            0   0.009376                1   \n",
       "1  0.019222               0            0   0.009376                1   \n",
       "2  0.019222               0            0   0.009376                1   \n",
       "3  0.019222               0            0   0.009376                1   \n",
       "4  0.019222               0            0   0.009376                1   \n",
       "\n",
       "   n_student  lunch   pretest  \n",
       "0  -0.661447      0  0.519477  \n",
       "1  -0.661447      0  0.814464  \n",
       "2  -0.661447      0  0.666971  \n",
       "3  -0.661447      0  0.445730  \n",
       "4  -0.661447      0  0.666971  "
      ]
     },
     "execution_count": 17,
     "metadata": {},
     "output_type": "execute_result"
    }
   ],
   "source": [
    "f_list = ['school', 'classroom']\n",
    "for x in f_list:\n",
    "    encoding = X.groupby(x).size()\n",
    "    encoding = encoding/len(X)\n",
    "    X[x] = X[x].map(encoding)\n",
    "\n",
    "X.head()"
   ]
  },
  {
   "cell_type": "markdown",
   "metadata": {
    "id": "j9SxbEzogZKh"
   },
   "source": [
    "<h2> Creating Model"
   ]
  },
  {
   "cell_type": "code",
   "execution_count": 18,
   "metadata": {
    "id": "-BHxnTN1gRED"
   },
   "outputs": [],
   "source": [
    "from sklearn.linear_model import LinearRegression,LogisticRegression, SGDRegressor\n",
    "from sklearn.neighbors import KNeighborsRegressor\n",
    "from sklearn.tree import DecisionTreeRegressor\n",
    "from sklearn.ensemble import RandomForestRegressor\n",
    "from sklearn.svm import SVR\n",
    "from xgboost import XGBRegressor\n",
    "from sklearn.metrics import classification_report, confusion_matrix, mean_absolute_error, roc_curve, roc_auc_score, r2_score, mean_squared_error\n",
    "from sklearn import metrics"
   ]
  },
  {
   "cell_type": "code",
   "execution_count": 19,
   "metadata": {
    "id": "dTYN96BFggJO"
   },
   "outputs": [],
   "source": [
    "X_train, X_test, y_train, y_test = train_test_split(X, y, test_size=0.3, random_state=41)"
   ]
  },
  {
   "cell_type": "code",
   "execution_count": 20,
   "metadata": {
    "colab": {
     "base_uri": "https://localhost:8080/"
    },
    "id": "WiSGH5pzgj67",
    "outputId": "3ac5cb36-bb71-41d2-e06f-80dc594ce4b9"
   },
   "outputs": [
    {
     "name": "stdout",
     "output_type": "stream",
     "text": [
      "Linear Regression\n",
      "Score:  0.9488917003203032\n",
      "MAE: 2.53 \n",
      "MSE: 10.16\n",
      "\n",
      "KNN\n",
      "Score:  0.9477803514351895\n",
      "MAE: 2.50 \n",
      "MSE: 10.38\n",
      "\n",
      "XGbr\n",
      "Score:  0.9469918223563615\n",
      "MAE: 2.54 \n",
      "MSE: 10.54\n",
      "\n",
      "SGD\n",
      "Score:  0.9488787350598813\n",
      "MAE: 2.53 \n",
      "MSE: 10.17\n",
      "\n",
      "Decisiontree\n",
      "Score:  0.9270424324345088\n",
      "MAE: 2.96 \n",
      "MSE: 14.51\n",
      "\n",
      "RandomForest\n",
      "Score:  0.9492954064871557\n",
      "MAE: 2.48 \n",
      "MSE: 10.08\n",
      "\n",
      "LogisticRegression\n",
      "Score:  0.1046875\n",
      "MAE: 3.48 \n",
      "MSE: 20.36\n",
      "\n"
     ]
    }
   ],
   "source": [
    "models = {\n",
    "    \"Linear Regression\": LinearRegression(fit_intercept=True),\n",
    "    \"KNN\": KNeighborsRegressor(),\n",
    "    \"XGbr\":XGBRegressor(),\n",
    "    \"SGD\": SGDRegressor(),\n",
    "    \"Decisiontree\": DecisionTreeRegressor(),\n",
    "    \"RandomForest\": RandomForestRegressor(max_features='sqrt', random_state=5),\n",
    "    \"LogisticRegression\": LogisticRegression()\n",
    "}\n",
    "\n",
    "for model in models.items():\n",
    "    m = model[1]\n",
    "    m.fit(X_train, y_train)\n",
    "    pred1 = m.predict(X_test)\n",
    "    print(model[0])\n",
    "    print(\"Score: \", m.score(X_test,y_test))\n",
    "    mae1 = mean_absolute_error(y_test, pred1)\n",
    "    mse1 = mean_squared_error(y_test, pred1)\n",
    "    print('MAE: {:.2f} \\nMSE: {:.2f}'.format( mae1, mse1))\n",
    "    print(\"\")"
   ]
  }
 ],
 "metadata": {
  "colab": {
   "name": "Untitled11.ipynb",
   "provenance": []
  },
  "kernelspec": {
   "display_name": "Python 3 (ipykernel)",
   "language": "python",
   "name": "python3"
  },
  "language_info": {
   "codemirror_mode": {
    "name": "ipython",
    "version": 3
   },
   "file_extension": ".py",
   "mimetype": "text/x-python",
   "name": "python",
   "nbconvert_exporter": "python",
   "pygments_lexer": "ipython3",
   "version": "3.9.8"
  }
 },
 "nbformat": 4,
 "nbformat_minor": 4
}
